{
  "cells": [
    {
      "cell_type": "code",
      "execution_count": 89,
      "id": "67f4afc1-976b-4275-a19f-8d03d28427c3",
      "metadata": {
        "id": "67f4afc1-976b-4275-a19f-8d03d28427c3"
      },
      "outputs": [],
      "source": [
        "import pandas as pd\n",
        "import numpy as np\n",
        "import os\n",
        "import requests\n",
        "from tqdm import tqdm\n",
        "import shutil\n",
        "\n",
        "from tensorflow.keras.applications import ResNet50, VGG16, VGG19\n",
        "from tensorflow.keras.models import Sequential\n",
        "from tensorflow.keras.layers import Dense, Flatten, Dropout\n",
        "from tensorflow.keras.preprocessing.image import ImageDataGenerator\n",
        "from tensorflow.keras import layers, models\n",
        "from tensorflow.keras.applications.vgg16 import preprocess_input\n",
        "from tensorflow.keras.callbacks import Callback\n",
        "\n",
        "import tensorflow as tf\n",
        "import matplotlib.pyplot as plt\n",
        "import IPython\n",
        "import time"
      ]
    },
    {
      "cell_type": "markdown",
      "source": [
        "#### Importing the data"
      ],
      "metadata": {
        "id": "og1GnVt7r3Vk"
      },
      "id": "og1GnVt7r3Vk"
    },
    {
      "cell_type": "code",
      "source": [
        "!gdown 1C8m64W-Tv5R0VJHUtkUXOVt8wZi1coXc"
      ],
      "metadata": {
        "colab": {
          "base_uri": "https://localhost:8080/"
        },
        "id": "sLBlfUWH1JCh",
        "outputId": "918a63ed-b30c-4cb1-b69c-642d55265820"
      },
      "id": "sLBlfUWH1JCh",
      "execution_count": 3,
      "outputs": [
        {
          "output_type": "stream",
          "name": "stdout",
          "text": [
            "Downloading...\n",
            "From (original): https://drive.google.com/uc?id=1C8m64W-Tv5R0VJHUtkUXOVt8wZi1coXc\n",
            "From (redirected): https://drive.google.com/uc?id=1C8m64W-Tv5R0VJHUtkUXOVt8wZi1coXc&confirm=t&uuid=ee30b33b-d818-4fe4-9bf0-1b764d5ff4fd\n",
            "To: /content/Images for project.zip\n",
            "100% 1.42G/1.42G [00:18<00:00, 78.2MB/s]\n"
          ]
        }
      ]
    },
    {
      "cell_type": "code",
      "source": [
        "!unzip -q \"/content/Images for project.zip\" -d /content/"
      ],
      "metadata": {
        "id": "XJI5d84220cW"
      },
      "id": "XJI5d84220cW",
      "execution_count": 4,
      "outputs": []
    },
    {
      "cell_type": "code",
      "source": [
        "!rm '/content/Images for project.zip'"
      ],
      "metadata": {
        "id": "oFqrtC1W3rf-"
      },
      "id": "oFqrtC1W3rf-",
      "execution_count": 5,
      "outputs": []
    },
    {
      "cell_type": "markdown",
      "source": [
        "#### Sorting the images into separate train-val-test folders"
      ],
      "metadata": {
        "id": "9M0GN0URsHxo"
      },
      "id": "9M0GN0URsHxo"
    },
    {
      "cell_type": "code",
      "source": [
        "url = 'https://raw.githubusercontent.com/ontenkutsenko/DL_Skin_Desease_Classification/main/Data/fitzpatrick17k.csv'\n",
        "df = pd.read_csv(url).dropna(subset = ['url'])\n",
        "df = df.sample(frac=1, random_state=10).reset_index(drop=True)"
      ],
      "metadata": {
        "id": "Q5fIIfFHSmun"
      },
      "id": "Q5fIIfFHSmun",
      "execution_count": 6,
      "outputs": []
    },
    {
      "cell_type": "code",
      "source": [
        "df['rank'] = df.groupby(['label', 'fitzpatrick_scale']).cumcount()/(df.groupby(['label', 'fitzpatrick_scale']).transform('count')['url'] - 1)"
      ],
      "metadata": {
        "id": "i5jAbq3ASoH3"
      },
      "id": "i5jAbq3ASoH3",
      "execution_count": 7,
      "outputs": []
    },
    {
      "cell_type": "code",
      "source": [
        "def assign_split(row, proportion):\n",
        "    if row['rank'] < proportion['train']:\n",
        "        return 'train'\n",
        "    elif row['rank'] < proportion['train']+proportion['test']:\n",
        "        return 'test'\n",
        "    else:\n",
        "        return 'val'"
      ],
      "metadata": {
        "id": "PDdNEIpXTqCJ"
      },
      "id": "PDdNEIpXTqCJ",
      "execution_count": 8,
      "outputs": []
    },
    {
      "cell_type": "code",
      "source": [
        "proportion = {\n",
        "    'train': 0.75,\n",
        "    'val': 0.05,\n",
        "    'test': 0.20\n",
        "}\n",
        "\n",
        "df['split'] = df.apply(lambda row: assign_split(row, proportion), axis=1)\n",
        "df.split.value_counts()/len(df)"
      ],
      "metadata": {
        "colab": {
          "base_uri": "https://localhost:8080/"
        },
        "id": "EHyzxsZVTtFb",
        "outputId": "86d7d595-b9f9-46a9-f85d-674536c82bac"
      },
      "id": "EHyzxsZVTtFb",
      "execution_count": 9,
      "outputs": [
        {
          "output_type": "execute_result",
          "data": {
            "text/plain": [
              "train    0.732221\n",
              "test     0.191945\n",
              "val      0.075835\n",
              "Name: split, dtype: float64"
            ]
          },
          "metadata": {},
          "execution_count": 9
        }
      ]
    },
    {
      "cell_type": "code",
      "source": [
        "shutil.rmtree('/content/dataset', ignore_errors=True)\n",
        "\n",
        "source_folder = '/content/Images for project'\n",
        "destination_folder = '/content/dataset'\n",
        "\n",
        "\n",
        "for i in range(len(df)):\n",
        "  try:\n",
        "    source_file = os.path.join(source_folder, df['url'][i].split('/')[-1])\n",
        "    destination_file = os.path.join(destination_folder, df['split'][i], df['label'][i], f\"{df['url'][i].split('/')[-1]}.jpg\")\n",
        "    os.makedirs(os.path.dirname(destination_file), exist_ok=True)\n",
        "\n",
        "    shutil.move(source_file, destination_file)\n",
        "  except:\n",
        "    print(source_file, ' doesn\\'t exist')"
      ],
      "metadata": {
        "colab": {
          "base_uri": "https://localhost:8080/"
        },
        "id": "4Ax8rO79SUWr",
        "outputId": "f3458c67-4855-47b6-f501-64e2d758c219"
      },
      "id": "4Ax8rO79SUWr",
      "execution_count": 10,
      "outputs": [
        {
          "output_type": "stream",
          "name": "stdout",
          "text": [
            "/content/Images for project/img?imageId=4030  doesn't exist\n",
            "/content/Images for project/img?imageId=8364  doesn't exist\n",
            "/content/Images for project/img?imageId=2767  doesn't exist\n",
            "/content/Images for project/img?imageId=4031  doesn't exist\n",
            "/content/Images for project/img?imageId=5399  doesn't exist\n",
            "/content/Images for project/img?imageId=2766  doesn't exist\n",
            "/content/Images for project/img?imageId=6724  doesn't exist\n",
            "/content/Images for project/img?imageId=4505  doesn't exist\n",
            "/content/Images for project/img?imageId=8362  doesn't exist\n",
            "/content/Images for project/img?imageId=8363  doesn't exist\n"
          ]
        }
      ]
    },
    {
      "cell_type": "markdown",
      "source": [
        "#### Defining data generators"
      ],
      "metadata": {
        "id": "W_GcQknRabtS"
      },
      "id": "W_GcQknRabtS"
    },
    {
      "cell_type": "code",
      "source": [
        "train_datagen = ImageDataGenerator(rescale=1./255,\n",
        "                                    rotation_range=60,\n",
        "                                    width_shift_range=0.2,\n",
        "                                    height_shift_range=0.2,\n",
        "                                    shear_range=0.2,\n",
        "                                     zoom_range=0.3,\n",
        "                                   horizontal_flip=True)\n",
        "val_datagen = ImageDataGenerator(rescale=1./255)\n",
        "test_datagen = ImageDataGenerator(rescale=1./255)\n",
        "\n",
        "batch_size = 32\n",
        "\n",
        "train_generator = train_datagen.flow_from_directory(\n",
        "        'dataset/train',\n",
        "        batch_size=batch_size,\n",
        "        shuffle = True,\n",
        "        class_mode='categorical',\n",
        "        target_size = (224,224))\n",
        "\n",
        "val_generator = val_datagen.flow_from_directory(\n",
        "        'dataset/val',\n",
        "        batch_size=batch_size,\n",
        "        class_mode='categorical',\n",
        "        target_size = (224,224))\n",
        "\n",
        "test_generator = test_datagen.flow_from_directory(\n",
        "        'dataset/test',\n",
        "        batch_size=batch_size,\n",
        "        class_mode='categorical',\n",
        "        target_size = (224,224))"
      ],
      "metadata": {
        "id": "_uj5CuAIaY6P",
        "outputId": "38296a70-5879-460e-8533-31f5cb785610",
        "colab": {
          "base_uri": "https://localhost:8080/"
        }
      },
      "id": "_uj5CuAIaY6P",
      "execution_count": 53,
      "outputs": [
        {
          "output_type": "stream",
          "name": "stdout",
          "text": [
            "Found 12099 images belonging to 114 classes.\n",
            "Found 1254 images belonging to 114 classes.\n",
            "Found 3173 images belonging to 114 classes.\n"
          ]
        }
      ]
    },
    {
      "cell_type": "markdown",
      "source": [
        "#### Creating Callbacks"
      ],
      "metadata": {
        "id": "UWPuCp4iSRZk"
      },
      "id": "UWPuCp4iSRZk"
    },
    {
      "cell_type": "code",
      "source": [
        "start_time = time.time()\n",
        "top_1_acc = []\n",
        "top_3_acc = []\n",
        "top_5_acc = []\n",
        "for x_val_batch, y_val_batch in tqdm(val_generator):\n",
        "    val_predictions = model.predict(x_val_batch, verbose = 0)\n",
        "    top_1_acc.append(top_n_accuracy(y_val_batch, val_predictions, 1))\n",
        "    top_3_acc.append(top_n_accuracy(y_val_batch, val_predictions, 3))\n",
        "    top_5_acc.append(top_n_accuracy(y_val_batch, val_predictions, 5))\n",
        "    if len(top_1_acc) >= len(val_generator):\n",
        "        break\n",
        "end_time = time.time()\n",
        "duration = end_time - start_time\n",
        "print(f'Top-1 accuracy: {np.mean(top_1_acc):.3f}, Top-3 accuracy: {np.mean(top_3_acc):.3f}, Top-5 accuracy: {np.mean(top_5_acc):.3f}, \\nTime to calculate: {duration:.2f} seconds')\n"
      ],
      "metadata": {
        "id": "-RTMGF05bNUB",
        "outputId": "fcf6421f-2edc-4352-bf7d-c565619c482e",
        "colab": {
          "base_uri": "https://localhost:8080/"
        }
      },
      "id": "-RTMGF05bNUB",
      "execution_count": 95,
      "outputs": [
        {
          "output_type": "stream",
          "name": "stderr",
          "text": [
            " 98%|█████████▊| 39/40 [00:14<00:00,  2.68it/s]"
          ]
        },
        {
          "output_type": "stream",
          "name": "stdout",
          "text": [
            "Top-1 accuracy: 0.048, Top-3 accuracy: 0.057, Top-5 accuracy: 0.057, \n",
            "Time to calculate: 14.54 seconds\n"
          ]
        },
        {
          "output_type": "stream",
          "name": "stderr",
          "text": [
            "\n"
          ]
        }
      ]
    },
    {
      "cell_type": "code",
      "source": [
        "def top_n_accuracy(y_val, val_predictions, n):\n",
        "  diff = np.min(np.abs(np.argsort(y_val, axis = 1)[:,-n:] - np.argsort(val_predictions, axis=1)[:,-n:]), axis = 1)\n",
        "  return np.count_nonzero(diff == 0)/len(diff)\n",
        "\n",
        "\n",
        "class TopNAccuracyCallback(Callback):\n",
        "  def __init__(self, val_generator):\n",
        "      super().__init__()\n",
        "      self.val_generator = val_generator\n",
        "\n",
        "  def on_epoch_end(self, epoch, logs=None):\n",
        "      start_time = time.time()\n",
        "      top_1_acc = []\n",
        "      top_3_acc = []\n",
        "      top_5_acc = []\n",
        "      for x_val_batch, y_val_batch in self.val_generator:\n",
        "        val_predictions = self.model.predict(x_val_batch, verbose = 0)\n",
        "        top_1_acc.append(top_n_accuracy(y_val_batch, val_predictions, 1))\n",
        "        top_3_acc.append(top_n_accuracy(y_val_batch, val_predictions, 3))\n",
        "        top_5_acc.append(top_n_accuracy(y_val_batch, val_predictions, 5))\n",
        "        if len(top_1_acc) >= len(self.val_generator):\n",
        "          break\n",
        "      end_time = time.time()\n",
        "      duration = end_time - start_time\n",
        "      print(f'Top-1 accuracy: {np.mean(top_1_acc):.3f}, Top-3 accuracy: {np.mean(top_3_acc):.3f}, Top-5 accuracy: {np.mean(top_5_acc):.3f}, \\nTime to calculate: {duration:.2f} seconds')\n",
        "top_n_accuracy_callback = TopNAccuracyCallback(val_generator)"
      ],
      "metadata": {
        "id": "EYn1zIOSSppv"
      },
      "id": "EYn1zIOSSppv",
      "execution_count": 96,
      "outputs": []
    },
    {
      "cell_type": "code",
      "source": [
        "class PlotMetricsCallback(Callback):\n",
        "    def on_train_begin(self, logs=None):\n",
        "        self.losses = []\n",
        "        self.val_losses = []\n",
        "        self.accuracies = []\n",
        "        self.val_accuracies = []\n",
        "\n",
        "    def on_epoch_end(self, epoch, logs):\n",
        "        self.losses.append(logs.get('loss'))\n",
        "        self.val_losses.append(logs.get('val_loss'))\n",
        "        self.accuracies.append(logs.get('accuracy'))\n",
        "        self.val_accuracies.append(logs.get('val_accuracy'))\n",
        "\n",
        "        plt.figure(figsize=(10, 5))\n",
        "        plt.subplot(1, 2, 1)\n",
        "        plt.plot(range(1, epoch + 2), self.losses, label='Training Loss')\n",
        "        plt.plot(range(1, epoch + 2), self.val_losses, label='Validation Loss')\n",
        "        plt.xlabel('Epochs')\n",
        "        plt.ylabel('Loss')\n",
        "        plt.title('Training and Validation Loss')\n",
        "        plt.legend()\n",
        "\n",
        "\n",
        "        plt.subplot(1, 2, 2)\n",
        "        plt.plot(range(1, epoch + 2), self.accuracies, label='Training Accuracy')\n",
        "        plt.plot(range(1, epoch + 2), self.val_accuracies, label='Validation Accuracy')\n",
        "        plt.xlabel('Epochs')\n",
        "        plt.ylabel('Accuracy')\n",
        "        plt.title('Training and Validation Accuracy')\n",
        "        plt.legend()\n",
        "        plt.tight_layout()\n",
        "        plt.show()\n",
        "\n",
        "plot_metrics_callback = PlotMetricsCallback()"
      ],
      "metadata": {
        "id": "PfmZz_OYgdC_"
      },
      "id": "PfmZz_OYgdC_",
      "execution_count": 97,
      "outputs": []
    },
    {
      "cell_type": "code",
      "source": [
        "clear_output_callback = tf.keras.callbacks.LambdaCallback(\n",
        "    on_epoch_end=lambda epoch, logs: IPython.display.clear_output(wait=True)\n",
        ")"
      ],
      "metadata": {
        "id": "wswkbo9XSgFs"
      },
      "id": "wswkbo9XSgFs",
      "execution_count": 98,
      "outputs": []
    },
    {
      "cell_type": "markdown",
      "source": [
        "#### Creating the model"
      ],
      "metadata": {
        "id": "paKiUPDu4rjx"
      },
      "id": "paKiUPDu4rjx"
    },
    {
      "cell_type": "code",
      "source": [
        "print(\"GPU Available:\", tf.config.list_physical_devices('GPU'))"
      ],
      "metadata": {
        "colab": {
          "base_uri": "https://localhost:8080/"
        },
        "id": "H_5bX9E1duTj",
        "outputId": "efe0814d-d8fd-4529-bece-f15d0839637e"
      },
      "id": "H_5bX9E1duTj",
      "execution_count": 93,
      "outputs": [
        {
          "output_type": "stream",
          "name": "stdout",
          "text": [
            "GPU Available: [PhysicalDevice(name='/physical_device:GPU:0', device_type='GPU')]\n"
          ]
        }
      ]
    },
    {
      "cell_type": "code",
      "source": [
        "vgg = VGG19(include_top=False, weights='imagenet', input_shape=(224, 224, 3))\n",
        "\n",
        "# Freeze the layers\n",
        "for layer in vgg.layers[:-2]:\n",
        "    layer.trainable = False\n",
        "\n",
        "# Flatten the output of the VGG16 network because it is a 2D array\n",
        "flatten = layers.Flatten()(vgg.output)\n",
        "\n",
        "# Add a fully connected layer with 1024 neurons\n",
        "dense = layers.Dense(1024, activation='relu')(flatten)\n",
        "dropout = Dropout(0.3)(dense)\n",
        "\n",
        "# Add a fully connected layer with 256 neurons\n",
        "dense = layers.Dense(256, activation='relu')(dense)\n",
        "dropout = Dropout(0.3)(dense)\n",
        "\n",
        "# We have 114 classes so we need a dense layer with 114 neurons\n",
        "output = layers.Dense(114, activation='softmax')(dense)\n",
        "\n",
        "# Create a model\n",
        "model = models.Model(vgg.input, output)\n",
        "\n",
        "# Compile the model\n",
        "\n",
        "model.compile(optimizer='adam',\n",
        "              loss='categorical_crossentropy',\n",
        "              metrics=['accuracy'])\n",
        "\n",
        "history = model.fit(train_generator,\n",
        "          validation_data=val_generator,\n",
        "          epochs=5,\n",
        "          steps_per_epoch=len(train_generator),\n",
        "          validation_steps = len(val_generator),\n",
        "          callbacks=[clear_output_callback, plot_metrics_callback, top_n_accuracy_callback],\n",
        "          verbose = 'auto')\n"
      ],
      "metadata": {
        "colab": {
          "base_uri": "https://localhost:8080/",
          "height": 559
        },
        "id": "s2jyDBlSYqSV",
        "outputId": "ea2472ca-f8dc-4b81-9425-02fb0f6e5d8d"
      },
      "id": "s2jyDBlSYqSV",
      "execution_count": 100,
      "outputs": [
        {
          "output_type": "display_data",
          "data": {
            "text/plain": [
              "<Figure size 1000x500 with 2 Axes>"
            ],
            "image/png": "[encoded data removed]"
          },
          "metadata": {}
        },
        {
          "output_type": "stream",
          "name": "stdout",
          "text": [
            "Top-1 accuracy: 0.097, Top-3 accuracy: 0.106, Top-5 accuracy: 0.119, \n",
            "Time to calculate: 15.13 seconds\n",
            "\b\b\b\b\b\b\b\b\b\b\b\b\b\b\b\b\b\b\b\b\b\b\b\b\b\b\b\b\b\b\b\b\b\b\b\b\b\b\b\b\b\b\b\b\b\b\b\b\b\b\b\b\b\b\b\b\b\b\b\b\b\b\b\b\b\b\b\b\b\b\b\b\b\b\b\b\b\b\b\b\b\b\b\b\r379/379 [==============================] - 217s 573ms/step - loss: 3.9079 - accuracy: 0.1142 - val_loss: 4.0903 - val_accuracy: 0.0997\n"
          ]
        }
      ]
    },
    {
      "cell_type": "code",
      "source": [
        "from google.colab import drive\n",
        "drive.mount('/content/drive')"
      ],
      "metadata": {
        "id": "AddMkpIDnDtl",
        "outputId": "24bd5750-8a76-4ff9-89ed-c32b22ca91b8",
        "colab": {
          "base_uri": "https://localhost:8080/"
        }
      },
      "id": "AddMkpIDnDtl",
      "execution_count": 102,
      "outputs": [
        {
          "output_type": "stream",
          "name": "stdout",
          "text": [
            "Mounted at /content/drive\n"
          ]
        }
      ]
    },
    {
      "cell_type": "code",
      "source": [
        "model.save_weights('/content/drive/MyDrive/Nova IMS/DL/Project/vgg19_weights_baseline_22_03.h5')"
      ],
      "metadata": {
        "id": "CHqMsOK0khtu"
      },
      "id": "CHqMsOK0khtu",
      "execution_count": 103,
      "outputs": []
    },
    {
      "cell_type": "markdown",
      "source": [
        "#### Further modeling"
      ],
      "metadata": {
        "id": "lJFtbtjhEv7U"
      },
      "id": "lJFtbtjhEv7U"
    },
    {
      "cell_type": "code",
      "source": [
        "vgg = VGG16(include_top=False, weights='imagenet', input_shape=(224, 224, 3))\n",
        "\n",
        "# Freeze the layers\n",
        "for layer in vgg.layers:\n",
        "    layer.trainable = False\n",
        "\n",
        "# Flatten the output of the VGG16 network because it is a 2D array\n",
        "flatten = layers.Flatten()(vgg.output)\n",
        "\n",
        "# Add a fully connected layer with 1024 neurons\n",
        "dense = layers.Dense(1024, activation='relu')(flatten)\n",
        "dropout = Dropout(0.5)(dense)\n",
        "\n",
        "# Add a fully connected layer with 256 neurons\n",
        "dense = layers.Dense(256, activation='relu')(dense)\n",
        "dropout = Dropout(0.5)(dense)\n",
        "\n",
        "# We have 114 classes so we need a dense layer with 114 neurons\n",
        "output = layers.Dense(114, activation='softmax')(dense)\n",
        "\n",
        "# Create a model\n",
        "model = models.Model(vgg.input, output)\n",
        "\n",
        "# Compile the model\n",
        "model.compile(\n",
        "    optimizer='adam',\n",
        "    loss='categorical_crossentropy',\n",
        "    metrics=['accuracy'])"
      ],
      "metadata": {
        "colab": {
          "base_uri": "https://localhost:8080/"
        },
        "id": "iUoJjL3X40zT",
        "outputId": "cf93d614-ce03-489f-b48d-48ba06d85e4c"
      },
      "id": "iUoJjL3X40zT",
      "execution_count": null,
      "outputs": [
        {
          "output_type": "stream",
          "name": "stdout",
          "text": [
            "Downloading data from https://storage.googleapis.com/tensorflow/keras-applications/vgg16/vgg16_weights_tf_dim_ordering_tf_kernels_notop.h5\n",
            "58889256/58889256 [==============================] - 1s 0us/step\n"
          ]
        }
      ]
    },
    {
      "cell_type": "code",
      "source": [
        "# Train the model\n",
        "model.fit(\n",
        "    train_generator,\n",
        "    validation_data=val_generator,\n",
        "    epochs=10,\n",
        "    steps_per_epoch=len(train_generator),\n",
        "    validation_steps=len(val_generator))"
      ],
      "metadata": {
        "colab": {
          "base_uri": "https://localhost:8080/"
        },
        "id": "L8iv9BCh5D75",
        "outputId": "42960fa4-edf6-4f5c-a605-871826fab3ed"
      },
      "id": "L8iv9BCh5D75",
      "execution_count": null,
      "outputs": [
        {
          "output_type": "stream",
          "name": "stdout",
          "text": [
            "Epoch 1/10\n",
            "379/379 [==============================] - 214s 565ms/step - loss: 4.5626 - accuracy: 0.0496 - val_loss: 4.6065 - val_accuracy: 0.0439\n",
            "Epoch 2/10\n",
            "379/379 [==============================] - 209s 550ms/step - loss: 4.2871 - accuracy: 0.0688 - val_loss: 4.4079 - val_accuracy: 0.0566\n",
            "Epoch 3/10\n",
            "379/379 [==============================] - 208s 548ms/step - loss: 4.1713 - accuracy: 0.0774 - val_loss: 4.2941 - val_accuracy: 0.0797\n",
            "Epoch 4/10\n",
            "379/379 [==============================] - 212s 560ms/step - loss: 4.0789 - accuracy: 0.0922 - val_loss: 4.2698 - val_accuracy: 0.0813\n",
            "Epoch 5/10\n",
            "379/379 [==============================] - 212s 558ms/step - loss: 4.0069 - accuracy: 0.0995 - val_loss: 4.1700 - val_accuracy: 0.0949\n",
            "Epoch 6/10\n",
            "379/379 [==============================] - 203s 535ms/step - loss: 3.9411 - accuracy: 0.1079 - val_loss: 4.1259 - val_accuracy: 0.0973\n",
            "Epoch 7/10\n",
            "379/379 [==============================] - 205s 541ms/step - loss: 3.8945 - accuracy: 0.1151 - val_loss: 4.0923 - val_accuracy: 0.0941\n",
            "Epoch 8/10\n",
            "379/379 [==============================] - 207s 547ms/step - loss: 3.8367 - accuracy: 0.1257 - val_loss: 4.0839 - val_accuracy: 0.1069\n",
            "Epoch 9/10\n",
            "379/379 [==============================] - 203s 536ms/step - loss: 3.7966 - accuracy: 0.1261 - val_loss: 3.9886 - val_accuracy: 0.1148\n",
            "Epoch 10/10\n",
            "379/379 [==============================] - 205s 542ms/step - loss: 3.7581 - accuracy: 0.1360 - val_loss: 4.0593 - val_accuracy: 0.1061\n"
          ]
        },
        {
          "output_type": "execute_result",
          "data": {
            "text/plain": [
              "<keras.src.callbacks.History at 0x7db1dc30eb30>"
            ]
          },
          "metadata": {},
          "execution_count": 42
        }
      ]
    },
    {
      "cell_type": "code",
      "source": [
        "model.save_weights('/content/vgg16-1024-256.h5')"
      ],
      "metadata": {
        "id": "qHuIwkj-EziR"
      },
      "id": "qHuIwkj-EziR",
      "execution_count": null,
      "outputs": []
    }
  ],
  "metadata": {
    "kernelspec": {
      "display_name": "Python 3",
      "name": "python3"
    },
    "language_info": {
      "codemirror_mode": {
        "name": "ipython",
        "version": 3
      },
      "file_extension": ".py",
      "mimetype": "text/x-python",
      "name": "python",
      "nbconvert_exporter": "python",
      "pygments_lexer": "ipython3",
      "version": "3.11.4"
    },
    "colab": {
      "provenance": [],
      "gpuType": "T4"
    },
    "accelerator": "GPU"
  },
  "nbformat": 4,
  "nbformat_minor": 5
}