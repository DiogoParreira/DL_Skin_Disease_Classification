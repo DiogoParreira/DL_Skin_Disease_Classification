{
  "cells": [
    {
      "cell_type": "code",
      "execution_count": 1,
      "id": "67f4afc1-976b-4275-a19f-8d03d28427c3",
      "metadata": {
        "id": "67f4afc1-976b-4275-a19f-8d03d28427c3",
        "outputId": "27940f66-ccf8-4f0e-db45-26cc30f1c03c",
        "colab": {
          "base_uri": "https://localhost:8080/"
        }
      },
      "outputs": [
        {
          "output_type": "stream",
          "name": "stdout",
          "text": [
            "Collecting tensorflow_addons\n",
            "  Downloading tensorflow_addons-0.23.0-cp310-cp310-manylinux_2_17_x86_64.manylinux2014_x86_64.whl (611 kB)\n",
            "\u001b[2K     \u001b[90m━━━━━━━━━━━━━━━━━━━━━━━━━━━━━━━━━━━━━━━━\u001b[0m \u001b[32m611.8/611.8 kB\u001b[0m \u001b[31m6.1 MB/s\u001b[0m eta \u001b[36m0:00:00\u001b[0m\n",
            "\u001b[?25hRequirement already satisfied: packaging in /usr/local/lib/python3.10/dist-packages (from tensorflow_addons) (24.0)\n",
            "Collecting typeguard<3.0.0,>=2.7 (from tensorflow_addons)\n",
            "  Downloading typeguard-2.13.3-py3-none-any.whl (17 kB)\n",
            "Installing collected packages: typeguard, tensorflow_addons\n",
            "Successfully installed tensorflow_addons-0.23.0 typeguard-2.13.3\n"
          ]
        },
        {
          "output_type": "stream",
          "name": "stderr",
          "text": [
            "/usr/local/lib/python3.10/dist-packages/tensorflow_addons/utils/tfa_eol_msg.py:23: UserWarning: \n",
            "\n",
            "TensorFlow Addons (TFA) has ended development and introduction of new features.\n",
            "TFA has entered a minimal maintenance and release mode until a planned end of life in May 2024.\n",
            "Please modify downstream libraries to take dependencies from other repositories in our TensorFlow community (e.g. Keras, Keras-CV, and Keras-NLP). \n",
            "\n",
            "For more information see: https://github.com/tensorflow/addons/issues/2807 \n",
            "\n",
            "  warnings.warn(\n"
          ]
        }
      ],
      "source": [
        "!pip install tensorflow_addons\n",
        "\n",
        "import tensorflow_addons as tfa\n",
        "\n",
        "import pandas as pd\n",
        "import numpy as np\n",
        "import os\n",
        "import requests\n",
        "from tqdm import tqdm\n",
        "import shutil\n",
        "\n",
        "from tensorflow.keras.applications import ResNet50, VGG16, VGG19\n",
        "from tensorflow.keras.models import Sequential\n",
        "from tensorflow.keras.layers import Dense, Flatten, Dropout, Conv2D, MaxPooling2D, BatchNormalization\n",
        "from tensorflow.keras.preprocessing.image import ImageDataGenerator\n",
        "from tensorflow.keras import layers, models\n",
        "from tensorflow.keras.applications.vgg16 import preprocess_input\n",
        "from tensorflow.keras.callbacks import Callback\n",
        "\n",
        "import tensorflow as tf\n",
        "import matplotlib.pyplot as plt\n",
        "import IPython\n",
        "import time"
      ]
    },
    {
      "cell_type": "markdown",
      "source": [
        "#### Importing the data"
      ],
      "metadata": {
        "id": "og1GnVt7r3Vk"
      },
      "id": "og1GnVt7r3Vk"
    },
    {
      "cell_type": "code",
      "source": [
        "!gdown 1C8m64W-Tv5R0VJHUtkUXOVt8wZi1coXc"
      ],
      "metadata": {
        "colab": {
          "base_uri": "https://localhost:8080/"
        },
        "id": "sLBlfUWH1JCh",
        "outputId": "ee27b0e0-c61d-4208-f5eb-9fccf05aaea3"
      },
      "id": "sLBlfUWH1JCh",
      "execution_count": 2,
      "outputs": [
        {
          "output_type": "stream",
          "name": "stdout",
          "text": [
            "Downloading...\n",
            "From (original): https://drive.google.com/uc?id=1C8m64W-Tv5R0VJHUtkUXOVt8wZi1coXc\n",
            "From (redirected): https://drive.google.com/uc?id=1C8m64W-Tv5R0VJHUtkUXOVt8wZi1coXc&confirm=t&uuid=aa870ba8-8edc-4eb5-89b3-7bc47eddee3d\n",
            "To: /content/Images for project.zip\n",
            "100% 1.42G/1.42G [00:20<00:00, 70.8MB/s]\n"
          ]
        }
      ]
    },
    {
      "cell_type": "code",
      "source": [
        "!unzip -q \"/content/Images for project.zip\" -d /content/"
      ],
      "metadata": {
        "id": "XJI5d84220cW"
      },
      "id": "XJI5d84220cW",
      "execution_count": 3,
      "outputs": []
    },
    {
      "cell_type": "code",
      "source": [
        "!rm '/content/Images for project.zip'"
      ],
      "metadata": {
        "id": "oFqrtC1W3rf-"
      },
      "id": "oFqrtC1W3rf-",
      "execution_count": 4,
      "outputs": []
    },
    {
      "cell_type": "markdown",
      "source": [
        "#### Sorting the images into separate train-val-test folders"
      ],
      "metadata": {
        "id": "9M0GN0URsHxo"
      },
      "id": "9M0GN0URsHxo"
    },
    {
      "cell_type": "code",
      "source": [
        "url = 'https://raw.githubusercontent.com/ontenkutsenko/DL_Skin_Desease_Classification/main/Data/fitzpatrick17k.csv'\n",
        "df = pd.read_csv(url).dropna(subset = ['url'])\n",
        "df = df.sample(frac=1, random_state=10).reset_index(drop=True)"
      ],
      "metadata": {
        "id": "Q5fIIfFHSmun"
      },
      "id": "Q5fIIfFHSmun",
      "execution_count": 5,
      "outputs": []
    },
    {
      "cell_type": "code",
      "source": [
        "df['rank'] = df.groupby(['label', 'fitzpatrick_scale']).cumcount()/(df.groupby(['label', 'fitzpatrick_scale']).transform('count')['url'] - 1)"
      ],
      "metadata": {
        "id": "i5jAbq3ASoH3"
      },
      "id": "i5jAbq3ASoH3",
      "execution_count": 6,
      "outputs": []
    },
    {
      "cell_type": "code",
      "source": [
        "def assign_split(row, proportion):\n",
        "    if row['rank'] < proportion['train']:\n",
        "        return 'train'\n",
        "    elif row['rank'] < proportion['train']+proportion['test']:\n",
        "        return 'test'\n",
        "    else:\n",
        "        return 'val'"
      ],
      "metadata": {
        "id": "PDdNEIpXTqCJ"
      },
      "id": "PDdNEIpXTqCJ",
      "execution_count": 7,
      "outputs": []
    },
    {
      "cell_type": "code",
      "source": [
        "proportion = {\n",
        "    'train': 0.75,\n",
        "    'val': 0.05,\n",
        "    'test': 0.20\n",
        "}\n",
        "\n",
        "df['split'] = df.apply(lambda row: assign_split(row, proportion), axis=1)\n",
        "df.split.value_counts()/len(df)"
      ],
      "metadata": {
        "colab": {
          "base_uri": "https://localhost:8080/"
        },
        "id": "EHyzxsZVTtFb",
        "outputId": "d2cf21f7-83ee-4c98-e461-2ecc6cf83ba4"
      },
      "id": "EHyzxsZVTtFb",
      "execution_count": 8,
      "outputs": [
        {
          "output_type": "execute_result",
          "data": {
            "text/plain": [
              "split\n",
              "train    0.732221\n",
              "test     0.191945\n",
              "val      0.075835\n",
              "Name: count, dtype: float64"
            ]
          },
          "metadata": {},
          "execution_count": 8
        }
      ]
    },
    {
      "cell_type": "code",
      "source": [
        "shutil.rmtree('/content/dataset', ignore_errors=True)\n",
        "\n",
        "source_folder = '/content/Images for project'\n",
        "destination_folder = '/content/dataset'\n",
        "\n",
        "\n",
        "for i in range(len(df)):\n",
        "  try:\n",
        "    source_file = os.path.join(source_folder, df['url'][i].split('/')[-1])\n",
        "    destination_file = os.path.join(destination_folder, df['split'][i], df['label'][i], f\"{df['url'][i].split('/')[-1]}.jpg\")\n",
        "    os.makedirs(os.path.dirname(destination_file), exist_ok=True)\n",
        "\n",
        "    shutil.move(source_file, destination_file)\n",
        "  except:\n",
        "    print(source_file, ' doesn\\'t exist')"
      ],
      "metadata": {
        "colab": {
          "base_uri": "https://localhost:8080/"
        },
        "id": "4Ax8rO79SUWr",
        "outputId": "d83511c1-26c1-49d8-d1e7-905b7a26475c"
      },
      "id": "4Ax8rO79SUWr",
      "execution_count": 9,
      "outputs": [
        {
          "output_type": "stream",
          "name": "stdout",
          "text": [
            "/content/Images for project/img?imageId=4030  doesn't exist\n",
            "/content/Images for project/img?imageId=8364  doesn't exist\n",
            "/content/Images for project/img?imageId=2767  doesn't exist\n",
            "/content/Images for project/img?imageId=4031  doesn't exist\n",
            "/content/Images for project/img?imageId=5399  doesn't exist\n",
            "/content/Images for project/img?imageId=2766  doesn't exist\n",
            "/content/Images for project/img?imageId=6724  doesn't exist\n",
            "/content/Images for project/img?imageId=4505  doesn't exist\n",
            "/content/Images for project/img?imageId=8362  doesn't exist\n",
            "/content/Images for project/img?imageId=8363  doesn't exist\n"
          ]
        }
      ]
    },
    {
      "cell_type": "markdown",
      "source": [
        "#### Defining data generators"
      ],
      "metadata": {
        "id": "W_GcQknRabtS"
      },
      "id": "W_GcQknRabtS"
    },
    {
      "cell_type": "code",
      "source": [
        "train_datagen = ImageDataGenerator(rescale=1./255,\n",
        "                                    rotation_range=60,\n",
        "                                    width_shift_range=0.2,\n",
        "                                    height_shift_range=0.2,\n",
        "                                    # shear_range=0.2,\n",
        "                                    # zoom_range=0.3,\n",
        "                                    brightness_range = (0.5, 1.5),\n",
        "                                   horizontal_flip=True)\n",
        "val_datagen = ImageDataGenerator(rescale=1./255)\n",
        "test_datagen = ImageDataGenerator(rescale=1./255)\n",
        "\n",
        "batch_size = 32\n",
        "input_size = (150,150)\n",
        "\n",
        "train_generator = train_datagen.flow_from_directory(\n",
        "        'dataset/train',\n",
        "        batch_size=batch_size,\n",
        "        shuffle = True,\n",
        "        class_mode='categorical',\n",
        "        target_size = input_size)\n",
        "\n",
        "val_generator = val_datagen.flow_from_directory(\n",
        "        'dataset/val',\n",
        "        batch_size=batch_size,\n",
        "        class_mode='categorical',\n",
        "        target_size = input_size)\n",
        "\n",
        "test_generator = test_datagen.flow_from_directory(\n",
        "        'dataset/test',\n",
        "        batch_size=batch_size,\n",
        "        class_mode='categorical',\n",
        "        target_size = input_size)"
      ],
      "metadata": {
        "id": "_uj5CuAIaY6P",
        "outputId": "49d9ec89-e2ed-4d07-d70b-ee7af6e8d194",
        "colab": {
          "base_uri": "https://localhost:8080/"
        }
      },
      "id": "_uj5CuAIaY6P",
      "execution_count": 11,
      "outputs": [
        {
          "output_type": "stream",
          "name": "stdout",
          "text": [
            "Found 12099 images belonging to 114 classes.\n",
            "Found 1254 images belonging to 114 classes.\n",
            "Found 3173 images belonging to 114 classes.\n"
          ]
        }
      ]
    },
    {
      "cell_type": "markdown",
      "source": [
        "#### Creating Callbacks"
      ],
      "metadata": {
        "id": "UWPuCp4iSRZk"
      },
      "id": "UWPuCp4iSRZk"
    },
    {
      "cell_type": "code",
      "source": [
        "# start_time = time.time()\n",
        "# top_1_acc = []\n",
        "# top_3_acc = []\n",
        "# top_5_acc = []\n",
        "# for x_val_batch, y_val_batch in tqdm(val_generator):\n",
        "#     val_predictions = model.predict(x_val_batch, verbose = 0)\n",
        "#     top_1_acc.append(top_n_accuracy(y_val_batch, val_predictions, 1))\n",
        "#     top_3_acc.append(top_n_accuracy(y_val_batch, val_predictions, 3))\n",
        "#     top_5_acc.append(top_n_accuracy(y_val_batch, val_predictions, 5))\n",
        "#     if len(top_1_acc) >= len(val_generator):\n",
        "#         break\n",
        "# end_time = time.time()\n",
        "# duration = end_time - start_time\n",
        "# print(f'Top-1 accuracy: {np.mean(top_1_acc):.3f}, Top-3 accuracy: {np.mean(top_3_acc):.3f}, Top-5 accuracy: {np.mean(top_5_acc):.3f}, \\nTime to calculate: {duration:.2f} seconds')\n"
      ],
      "metadata": {
        "id": "-RTMGF05bNUB"
      },
      "id": "-RTMGF05bNUB",
      "execution_count": null,
      "outputs": []
    },
    {
      "cell_type": "code",
      "source": [
        "def top_n_accuracy(y_val, val_predictions, n):\n",
        "  diff = np.min(np.abs(np.argsort(y_val, axis = 1)[:,-n:] - np.argsort(val_predictions, axis=1)[:,-n:]), axis = 1)\n",
        "  return np.count_nonzero(diff == 0)/len(diff)\n",
        "\n",
        "\n",
        "class TopNAccuracyCallback(Callback):\n",
        "  def __init__(self, val_generator):\n",
        "      super().__init__()\n",
        "      self.val_generator = val_generator\n",
        "\n",
        "  def on_epoch_end(self, epoch, logs=None):\n",
        "      start_time = time.time()\n",
        "      top_1_acc = []\n",
        "      top_3_acc = []\n",
        "      top_5_acc = []\n",
        "      for x_val_batch, y_val_batch in self.val_generator:\n",
        "        val_predictions = self.model.predict(x_val_batch, verbose = 0)\n",
        "        top_1_acc.append(top_n_accuracy(y_val_batch, val_predictions, 1))\n",
        "        top_3_acc.append(top_n_accuracy(y_val_batch, val_predictions, 3))\n",
        "        top_5_acc.append(top_n_accuracy(y_val_batch, val_predictions, 5))\n",
        "        if len(top_1_acc) >= len(self.val_generator):\n",
        "          break\n",
        "      end_time = time.time()\n",
        "      duration = end_time - start_time\n",
        "      print(f'Top-1 accuracy: {np.mean(top_1_acc):.3f}, Top-3 accuracy: {np.mean(top_3_acc):.3f}, Top-5 accuracy: {np.mean(top_5_acc):.3f}, \\nTime to calculate: {duration:.2f} seconds')\n",
        "top_n_accuracy_callback = TopNAccuracyCallback(val_generator)"
      ],
      "metadata": {
        "id": "EYn1zIOSSppv"
      },
      "id": "EYn1zIOSSppv",
      "execution_count": 12,
      "outputs": []
    },
    {
      "cell_type": "code",
      "source": [
        "class PlotMetricsCallback(Callback):\n",
        "    def on_train_begin(self, logs=None):\n",
        "        self.losses = []\n",
        "        self.val_losses = []\n",
        "        self.accuracies = []\n",
        "        self.val_accuracies = []\n",
        "\n",
        "    def on_epoch_end(self, epoch, logs):\n",
        "        self.losses.append(logs.get('loss'))\n",
        "        self.val_losses.append(logs.get('val_loss'))\n",
        "        self.accuracies.append(logs.get('accuracy'))\n",
        "        self.val_accuracies.append(logs.get('val_accuracy'))\n",
        "\n",
        "        plt.figure(figsize=(10, 5))\n",
        "        plt.subplot(1, 2, 1)\n",
        "        plt.plot(range(1, epoch + 2), self.losses, label='Training Loss')\n",
        "        plt.plot(range(1, epoch + 2), self.val_losses, label='Validation Loss')\n",
        "        plt.xlabel('Epochs')\n",
        "        plt.ylabel('Loss')\n",
        "        plt.title('Training and Validation Loss')\n",
        "        plt.legend()\n",
        "\n",
        "\n",
        "        plt.subplot(1, 2, 2)\n",
        "        plt.plot(range(1, epoch + 2), self.accuracies, label='Training Accuracy')\n",
        "        plt.plot(range(1, epoch + 2), self.val_accuracies, label='Validation Accuracy')\n",
        "        plt.xlabel('Epochs')\n",
        "        plt.ylabel('Accuracy')\n",
        "        plt.title('Training and Validation Accuracy')\n",
        "        plt.legend()\n",
        "        plt.tight_layout()\n",
        "        plt.show()\n",
        "\n",
        "plot_metrics_callback = PlotMetricsCallback()"
      ],
      "metadata": {
        "id": "PfmZz_OYgdC_"
      },
      "id": "PfmZz_OYgdC_",
      "execution_count": 13,
      "outputs": []
    },
    {
      "cell_type": "code",
      "source": [
        "clear_output_callback = tf.keras.callbacks.LambdaCallback(\n",
        "    on_epoch_end=lambda epoch, logs: IPython.display.clear_output(wait=True)\n",
        ")"
      ],
      "metadata": {
        "id": "wswkbo9XSgFs"
      },
      "id": "wswkbo9XSgFs",
      "execution_count": 14,
      "outputs": []
    },
    {
      "cell_type": "code",
      "source": [
        "weighted_f1_score = tfa.metrics.F1Score(num_classes=114, average = 'weighted', name = 'weighted_f1_score')"
      ],
      "metadata": {
        "id": "j__I1dqKCRI_"
      },
      "id": "j__I1dqKCRI_",
      "execution_count": 15,
      "outputs": []
    },
    {
      "cell_type": "markdown",
      "source": [
        "#### Creating the model"
      ],
      "metadata": {
        "id": "paKiUPDu4rjx"
      },
      "id": "paKiUPDu4rjx"
    },
    {
      "cell_type": "code",
      "source": [
        "print(\"GPU Available:\", tf.config.list_physical_devices('GPU'))"
      ],
      "metadata": {
        "colab": {
          "base_uri": "https://localhost:8080/"
        },
        "id": "H_5bX9E1duTj",
        "outputId": "27ddc5e1-b845-47a7-db1b-28cbc75b23fe"
      },
      "id": "H_5bX9E1duTj",
      "execution_count": 16,
      "outputs": [
        {
          "output_type": "stream",
          "name": "stdout",
          "text": [
            "GPU Available: [PhysicalDevice(name='/physical_device:GPU:0', device_type='GPU')]\n"
          ]
        }
      ]
    },
    {
      "cell_type": "code",
      "source": [],
      "metadata": {
        "id": "s1G519VX5VIv"
      },
      "id": "s1G519VX5VIv",
      "execution_count": null,
      "outputs": []
    },
    {
      "cell_type": "markdown",
      "source": [
        "### Handmade model"
      ],
      "metadata": {
        "id": "qZ9JqU4V5WRB"
      },
      "id": "qZ9JqU4V5WRB"
    },
    {
      "cell_type": "code",
      "source": [
        "model = Sequential([\n",
        "    Conv2D(32, (5, 5), activation='relu', input_shape=(224, 224, 3)),\n",
        "    BatchNormalization(),\n",
        "\n",
        "    MaxPooling2D((4, 4)),\n",
        "    Conv2D(64, (5, 5), activation='relu'),\n",
        "    BatchNormalization(),\n",
        "\n",
        "    MaxPooling2D((4, 4)),\n",
        "    Conv2D(64, (3, 3), activation='relu'),\n",
        "    BatchNormalization(),\n",
        "\n",
        "    # MaxPooling2D((2, 2)),\n",
        "    # Conv2D(128, (3, 3), activation='relu'),\n",
        "    # BatchNormalization(),\n",
        "\n",
        "    # MaxPooling2D((2, 2)),\n",
        "    # Conv2D(128, (3, 3), activation='relu'),\n",
        "    # BatchNormalization(),\n",
        "\n",
        "    Flatten(),\n",
        "\n",
        "    # Dense(512, activation='relu'),\n",
        "    # Dropout(0.3),\n",
        "\n",
        "    Dense(256, activation='relu'),\n",
        "    Dropout(0.3),\n",
        "\n",
        "    Dense(114, activation='softmax')\n",
        "])\n"
      ],
      "metadata": {
        "id": "65nICYBl5VMx"
      },
      "id": "65nICYBl5VMx",
      "execution_count": null,
      "outputs": []
    },
    {
      "cell_type": "code",
      "source": [
        "model.summary()"
      ],
      "metadata": {
        "id": "h480Zev-68QD",
        "outputId": "e8c928a6-086f-4e00-f4b0-7b73f436e4d3",
        "colab": {
          "base_uri": "https://localhost:8080/"
        }
      },
      "id": "h480Zev-68QD",
      "execution_count": null,
      "outputs": [
        {
          "output_type": "stream",
          "name": "stdout",
          "text": [
            "Model: \"sequential_11\"\n",
            "_________________________________________________________________\n",
            " Layer (type)                Output Shape              Param #   \n",
            "=================================================================\n",
            " conv2d_43 (Conv2D)          (None, 220, 220, 32)      2432      \n",
            "                                                                 \n",
            " batch_normalization_43 (Ba  (None, 220, 220, 32)      128       \n",
            " tchNormalization)                                               \n",
            "                                                                 \n",
            " max_pooling2d_32 (MaxPooli  (None, 55, 55, 32)        0         \n",
            " ng2D)                                                           \n",
            "                                                                 \n",
            " conv2d_44 (Conv2D)          (None, 51, 51, 64)        51264     \n",
            "                                                                 \n",
            " batch_normalization_44 (Ba  (None, 51, 51, 64)        256       \n",
            " tchNormalization)                                               \n",
            "                                                                 \n",
            " max_pooling2d_33 (MaxPooli  (None, 12, 12, 64)        0         \n",
            " ng2D)                                                           \n",
            "                                                                 \n",
            " conv2d_45 (Conv2D)          (None, 10, 10, 64)        36928     \n",
            "                                                                 \n",
            " batch_normalization_45 (Ba  (None, 10, 10, 64)        256       \n",
            " tchNormalization)                                               \n",
            "                                                                 \n",
            " flatten_12 (Flatten)        (None, 6400)              0         \n",
            "                                                                 \n",
            " dense_29 (Dense)            (None, 256)               1638656   \n",
            "                                                                 \n",
            " dropout_17 (Dropout)        (None, 256)               0         \n",
            "                                                                 \n",
            " dense_30 (Dense)            (None, 114)               29298     \n",
            "                                                                 \n",
            "=================================================================\n",
            "Total params: 1759218 (6.71 MB)\n",
            "Trainable params: 1758898 (6.71 MB)\n",
            "Non-trainable params: 320 (1.25 KB)\n",
            "_________________________________________________________________\n"
          ]
        }
      ]
    },
    {
      "cell_type": "code",
      "source": [
        "model.compile(optimizer='adam',\n",
        "              loss='categorical_crossentropy',\n",
        "              metrics=['accuracy',\n",
        "                       weighted_f1_score\n",
        "                       ])\n",
        "\n",
        "history = model.fit(train_generator,\n",
        "          validation_data=val_generator,\n",
        "          epochs=10,\n",
        "          steps_per_epoch=len(train_generator),\n",
        "          validation_steps = len(val_generator),\n",
        "          callbacks=[clear_output_callback, plot_metrics_callback, top_n_accuracy_callback],\n",
        "          verbose = 'auto')"
      ],
      "metadata": {
        "id": "l5LJyROZ68SZ",
        "outputId": "2d11f977-2afb-460a-bae0-80ed1cd63884",
        "colab": {
          "base_uri": "https://localhost:8080/",
          "height": 953
        }
      },
      "id": "l5LJyROZ68SZ",
      "execution_count": null,
      "outputs": [
        {
          "output_type": "display_data",
          "data": {
            "text/plain": [
              "<Figure size 1000x500 with 2 Axes>"
            ],
            "image/png": "[encoded data removed]"
          },
          "metadata": {}
        },
        {
          "output_type": "stream",
          "name": "stdout",
          "text": [
            "Top-1 accuracy: 0.014, Top-3 accuracy: 0.014, Top-5 accuracy: 0.017, \n",
            "Time to calculate: 9.36 seconds\n",
            "\b\b\b\b\b\b\b\b\b\b\b\b\b\b\b\b\b\b\b\b\b\b\b\b\b\b\b\b\b\b\b\b\b\b\b\b\b\b\b\b\b\b\b\b\b\b\b\b\b\b\b\b\b\b\b\b\b\b\b\b\b\b\b\b\b\b\b\b\b\b\b\b\b\b\b\b\b\b\b\b\b\b\b\b\b\b\b\b\b\b\b\b\b\b\b\b\b\b\b\b\b\b\b\r379/379 [==============================] - 233s 614ms/step - loss: 4.4834 - accuracy: 0.0466 - f1_score: 0.0161 - val_loss: 7.6528 - val_accuracy: 0.0159 - val_f1_score: 0.0033\n",
            "Epoch 5/10\n",
            "107/379 [=======>......................] - ETA: 2:35 - loss: 4.4554 - accuracy: 0.0479 - f1_score: 0.0169"
          ]
        },
        {
          "output_type": "error",
          "ename": "KeyboardInterrupt",
          "evalue": "",
          "traceback": [
            "\u001b[0;31m---------------------------------------------------------------------------\u001b[0m",
            "\u001b[0;31mKeyboardInterrupt\u001b[0m                         Traceback (most recent call last)",
            "\u001b[0;32m<ipython-input-51-f458f3d8fea7>\u001b[0m in \u001b[0;36m<cell line: 7>\u001b[0;34m()\u001b[0m\n\u001b[1;32m      5\u001b[0m                        ])\n\u001b[1;32m      6\u001b[0m \u001b[0;34m\u001b[0m\u001b[0m\n\u001b[0;32m----> 7\u001b[0;31m history = model.fit(train_generator,\n\u001b[0m\u001b[1;32m      8\u001b[0m           \u001b[0mvalidation_data\u001b[0m\u001b[0;34m=\u001b[0m\u001b[0mval_generator\u001b[0m\u001b[0;34m,\u001b[0m\u001b[0;34m\u001b[0m\u001b[0;34m\u001b[0m\u001b[0m\n\u001b[1;32m      9\u001b[0m           \u001b[0mepochs\u001b[0m\u001b[0;34m=\u001b[0m\u001b[0;36m10\u001b[0m\u001b[0;34m,\u001b[0m\u001b[0;34m\u001b[0m\u001b[0;34m\u001b[0m\u001b[0m\n",
            "\u001b[0;32m/usr/local/lib/python3.10/dist-packages/keras/src/utils/traceback_utils.py\u001b[0m in \u001b[0;36merror_handler\u001b[0;34m(*args, **kwargs)\u001b[0m\n\u001b[1;32m     63\u001b[0m         \u001b[0mfiltered_tb\u001b[0m \u001b[0;34m=\u001b[0m \u001b[0;32mNone\u001b[0m\u001b[0;34m\u001b[0m\u001b[0;34m\u001b[0m\u001b[0m\n\u001b[1;32m     64\u001b[0m         \u001b[0;32mtry\u001b[0m\u001b[0;34m:\u001b[0m\u001b[0;34m\u001b[0m\u001b[0;34m\u001b[0m\u001b[0m\n\u001b[0;32m---> 65\u001b[0;31m             \u001b[0;32mreturn\u001b[0m \u001b[0mfn\u001b[0m\u001b[0;34m(\u001b[0m\u001b[0;34m*\u001b[0m\u001b[0margs\u001b[0m\u001b[0;34m,\u001b[0m \u001b[0;34m**\u001b[0m\u001b[0mkwargs\u001b[0m\u001b[0;34m)\u001b[0m\u001b[0;34m\u001b[0m\u001b[0;34m\u001b[0m\u001b[0m\n\u001b[0m\u001b[1;32m     66\u001b[0m         \u001b[0;32mexcept\u001b[0m \u001b[0mException\u001b[0m \u001b[0;32mas\u001b[0m \u001b[0me\u001b[0m\u001b[0;34m:\u001b[0m\u001b[0;34m\u001b[0m\u001b[0;34m\u001b[0m\u001b[0m\n\u001b[1;32m     67\u001b[0m             \u001b[0mfiltered_tb\u001b[0m \u001b[0;34m=\u001b[0m \u001b[0m_process_traceback_frames\u001b[0m\u001b[0;34m(\u001b[0m\u001b[0me\u001b[0m\u001b[0;34m.\u001b[0m\u001b[0m__traceback__\u001b[0m\u001b[0;34m)\u001b[0m\u001b[0;34m\u001b[0m\u001b[0;34m\u001b[0m\u001b[0m\n",
            "\u001b[0;32m/usr/local/lib/python3.10/dist-packages/keras/src/engine/training.py\u001b[0m in \u001b[0;36mfit\u001b[0;34m(self, x, y, batch_size, epochs, verbose, callbacks, validation_split, validation_data, shuffle, class_weight, sample_weight, initial_epoch, steps_per_epoch, validation_steps, validation_batch_size, validation_freq, max_queue_size, workers, use_multiprocessing)\u001b[0m\n\u001b[1;32m   1805\u001b[0m                         ):\n\u001b[1;32m   1806\u001b[0m                             \u001b[0mcallbacks\u001b[0m\u001b[0;34m.\u001b[0m\u001b[0mon_train_batch_begin\u001b[0m\u001b[0;34m(\u001b[0m\u001b[0mstep\u001b[0m\u001b[0;34m)\u001b[0m\u001b[0;34m\u001b[0m\u001b[0;34m\u001b[0m\u001b[0m\n\u001b[0;32m-> 1807\u001b[0;31m                             \u001b[0mtmp_logs\u001b[0m \u001b[0;34m=\u001b[0m \u001b[0mself\u001b[0m\u001b[0;34m.\u001b[0m\u001b[0mtrain_function\u001b[0m\u001b[0;34m(\u001b[0m\u001b[0miterator\u001b[0m\u001b[0;34m)\u001b[0m\u001b[0;34m\u001b[0m\u001b[0;34m\u001b[0m\u001b[0m\n\u001b[0m\u001b[1;32m   1808\u001b[0m                             \u001b[0;32mif\u001b[0m \u001b[0mdata_handler\u001b[0m\u001b[0;34m.\u001b[0m\u001b[0mshould_sync\u001b[0m\u001b[0;34m:\u001b[0m\u001b[0;34m\u001b[0m\u001b[0;34m\u001b[0m\u001b[0m\n\u001b[1;32m   1809\u001b[0m                                 \u001b[0mcontext\u001b[0m\u001b[0;34m.\u001b[0m\u001b[0masync_wait\u001b[0m\u001b[0;34m(\u001b[0m\u001b[0;34m)\u001b[0m\u001b[0;34m\u001b[0m\u001b[0;34m\u001b[0m\u001b[0m\n",
            "\u001b[0;32m/usr/local/lib/python3.10/dist-packages/tensorflow/python/util/traceback_utils.py\u001b[0m in \u001b[0;36merror_handler\u001b[0;34m(*args, **kwargs)\u001b[0m\n\u001b[1;32m    148\u001b[0m     \u001b[0mfiltered_tb\u001b[0m \u001b[0;34m=\u001b[0m \u001b[0;32mNone\u001b[0m\u001b[0;34m\u001b[0m\u001b[0;34m\u001b[0m\u001b[0m\n\u001b[1;32m    149\u001b[0m     \u001b[0;32mtry\u001b[0m\u001b[0;34m:\u001b[0m\u001b[0;34m\u001b[0m\u001b[0;34m\u001b[0m\u001b[0m\n\u001b[0;32m--> 150\u001b[0;31m       \u001b[0;32mreturn\u001b[0m \u001b[0mfn\u001b[0m\u001b[0;34m(\u001b[0m\u001b[0;34m*\u001b[0m\u001b[0margs\u001b[0m\u001b[0;34m,\u001b[0m \u001b[0;34m**\u001b[0m\u001b[0mkwargs\u001b[0m\u001b[0;34m)\u001b[0m\u001b[0;34m\u001b[0m\u001b[0;34m\u001b[0m\u001b[0m\n\u001b[0m\u001b[1;32m    151\u001b[0m     \u001b[0;32mexcept\u001b[0m \u001b[0mException\u001b[0m \u001b[0;32mas\u001b[0m \u001b[0me\u001b[0m\u001b[0;34m:\u001b[0m\u001b[0;34m\u001b[0m\u001b[0;34m\u001b[0m\u001b[0m\n\u001b[1;32m    152\u001b[0m       \u001b[0mfiltered_tb\u001b[0m \u001b[0;34m=\u001b[0m \u001b[0m_process_traceback_frames\u001b[0m\u001b[0;34m(\u001b[0m\u001b[0me\u001b[0m\u001b[0;34m.\u001b[0m\u001b[0m__traceback__\u001b[0m\u001b[0;34m)\u001b[0m\u001b[0;34m\u001b[0m\u001b[0;34m\u001b[0m\u001b[0m\n",
            "\u001b[0;32m/usr/local/lib/python3.10/dist-packages/tensorflow/python/eager/polymorphic_function/polymorphic_function.py\u001b[0m in \u001b[0;36m__call__\u001b[0;34m(self, *args, **kwds)\u001b[0m\n\u001b[1;32m    830\u001b[0m \u001b[0;34m\u001b[0m\u001b[0m\n\u001b[1;32m    831\u001b[0m       \u001b[0;32mwith\u001b[0m \u001b[0mOptionalXlaContext\u001b[0m\u001b[0;34m(\u001b[0m\u001b[0mself\u001b[0m\u001b[0;34m.\u001b[0m\u001b[0m_jit_compile\u001b[0m\u001b[0;34m)\u001b[0m\u001b[0;34m:\u001b[0m\u001b[0;34m\u001b[0m\u001b[0;34m\u001b[0m\u001b[0m\n\u001b[0;32m--> 832\u001b[0;31m         \u001b[0mresult\u001b[0m \u001b[0;34m=\u001b[0m \u001b[0mself\u001b[0m\u001b[0;34m.\u001b[0m\u001b[0m_call\u001b[0m\u001b[0;34m(\u001b[0m\u001b[0;34m*\u001b[0m\u001b[0margs\u001b[0m\u001b[0;34m,\u001b[0m \u001b[0;34m**\u001b[0m\u001b[0mkwds\u001b[0m\u001b[0;34m)\u001b[0m\u001b[0;34m\u001b[0m\u001b[0;34m\u001b[0m\u001b[0m\n\u001b[0m\u001b[1;32m    833\u001b[0m \u001b[0;34m\u001b[0m\u001b[0m\n\u001b[1;32m    834\u001b[0m       \u001b[0mnew_tracing_count\u001b[0m \u001b[0;34m=\u001b[0m \u001b[0mself\u001b[0m\u001b[0;34m.\u001b[0m\u001b[0mexperimental_get_tracing_count\u001b[0m\u001b[0;34m(\u001b[0m\u001b[0;34m)\u001b[0m\u001b[0;34m\u001b[0m\u001b[0;34m\u001b[0m\u001b[0m\n",
            "\u001b[0;32m/usr/local/lib/python3.10/dist-packages/tensorflow/python/eager/polymorphic_function/polymorphic_function.py\u001b[0m in \u001b[0;36m_call\u001b[0;34m(self, *args, **kwds)\u001b[0m\n\u001b[1;32m    866\u001b[0m       \u001b[0;31m# In this case we have created variables on the first call, so we run the\u001b[0m\u001b[0;34m\u001b[0m\u001b[0;34m\u001b[0m\u001b[0m\n\u001b[1;32m    867\u001b[0m       \u001b[0;31m# defunned version which is guaranteed to never create variables.\u001b[0m\u001b[0;34m\u001b[0m\u001b[0;34m\u001b[0m\u001b[0m\n\u001b[0;32m--> 868\u001b[0;31m       return tracing_compilation.call_function(\n\u001b[0m\u001b[1;32m    869\u001b[0m           \u001b[0margs\u001b[0m\u001b[0;34m,\u001b[0m \u001b[0mkwds\u001b[0m\u001b[0;34m,\u001b[0m \u001b[0mself\u001b[0m\u001b[0;34m.\u001b[0m\u001b[0m_no_variable_creation_config\u001b[0m\u001b[0;34m\u001b[0m\u001b[0;34m\u001b[0m\u001b[0m\n\u001b[1;32m    870\u001b[0m       )\n",
            "\u001b[0;32m/usr/local/lib/python3.10/dist-packages/tensorflow/python/eager/polymorphic_function/tracing_compilation.py\u001b[0m in \u001b[0;36mcall_function\u001b[0;34m(args, kwargs, tracing_options)\u001b[0m\n\u001b[1;32m    137\u001b[0m   \u001b[0mbound_args\u001b[0m \u001b[0;34m=\u001b[0m \u001b[0mfunction\u001b[0m\u001b[0;34m.\u001b[0m\u001b[0mfunction_type\u001b[0m\u001b[0;34m.\u001b[0m\u001b[0mbind\u001b[0m\u001b[0;34m(\u001b[0m\u001b[0;34m*\u001b[0m\u001b[0margs\u001b[0m\u001b[0;34m,\u001b[0m \u001b[0;34m**\u001b[0m\u001b[0mkwargs\u001b[0m\u001b[0;34m)\u001b[0m\u001b[0;34m\u001b[0m\u001b[0;34m\u001b[0m\u001b[0m\n\u001b[1;32m    138\u001b[0m   \u001b[0mflat_inputs\u001b[0m \u001b[0;34m=\u001b[0m \u001b[0mfunction\u001b[0m\u001b[0;34m.\u001b[0m\u001b[0mfunction_type\u001b[0m\u001b[0;34m.\u001b[0m\u001b[0munpack_inputs\u001b[0m\u001b[0;34m(\u001b[0m\u001b[0mbound_args\u001b[0m\u001b[0;34m)\u001b[0m\u001b[0;34m\u001b[0m\u001b[0;34m\u001b[0m\u001b[0m\n\u001b[0;32m--> 139\u001b[0;31m   return function._call_flat(  # pylint: disable=protected-access\n\u001b[0m\u001b[1;32m    140\u001b[0m       \u001b[0mflat_inputs\u001b[0m\u001b[0;34m,\u001b[0m \u001b[0mcaptured_inputs\u001b[0m\u001b[0;34m=\u001b[0m\u001b[0mfunction\u001b[0m\u001b[0;34m.\u001b[0m\u001b[0mcaptured_inputs\u001b[0m\u001b[0;34m\u001b[0m\u001b[0;34m\u001b[0m\u001b[0m\n\u001b[1;32m    141\u001b[0m   )\n",
            "\u001b[0;32m/usr/local/lib/python3.10/dist-packages/tensorflow/python/eager/polymorphic_function/concrete_function.py\u001b[0m in \u001b[0;36m_call_flat\u001b[0;34m(self, tensor_inputs, captured_inputs)\u001b[0m\n\u001b[1;32m   1321\u001b[0m         and executing_eagerly):\n\u001b[1;32m   1322\u001b[0m       \u001b[0;31m# No tape is watching; skip to running the function.\u001b[0m\u001b[0;34m\u001b[0m\u001b[0;34m\u001b[0m\u001b[0m\n\u001b[0;32m-> 1323\u001b[0;31m       \u001b[0;32mreturn\u001b[0m \u001b[0mself\u001b[0m\u001b[0;34m.\u001b[0m\u001b[0m_inference_function\u001b[0m\u001b[0;34m.\u001b[0m\u001b[0mcall_preflattened\u001b[0m\u001b[0;34m(\u001b[0m\u001b[0margs\u001b[0m\u001b[0;34m)\u001b[0m\u001b[0;34m\u001b[0m\u001b[0;34m\u001b[0m\u001b[0m\n\u001b[0m\u001b[1;32m   1324\u001b[0m     forward_backward = self._select_forward_and_backward_functions(\n\u001b[1;32m   1325\u001b[0m         \u001b[0margs\u001b[0m\u001b[0;34m,\u001b[0m\u001b[0;34m\u001b[0m\u001b[0;34m\u001b[0m\u001b[0m\n",
            "\u001b[0;32m/usr/local/lib/python3.10/dist-packages/tensorflow/python/eager/polymorphic_function/atomic_function.py\u001b[0m in \u001b[0;36mcall_preflattened\u001b[0;34m(self, args)\u001b[0m\n\u001b[1;32m    214\u001b[0m   \u001b[0;32mdef\u001b[0m \u001b[0mcall_preflattened\u001b[0m\u001b[0;34m(\u001b[0m\u001b[0mself\u001b[0m\u001b[0;34m,\u001b[0m \u001b[0margs\u001b[0m\u001b[0;34m:\u001b[0m \u001b[0mSequence\u001b[0m\u001b[0;34m[\u001b[0m\u001b[0mcore\u001b[0m\u001b[0;34m.\u001b[0m\u001b[0mTensor\u001b[0m\u001b[0;34m]\u001b[0m\u001b[0;34m)\u001b[0m \u001b[0;34m->\u001b[0m \u001b[0mAny\u001b[0m\u001b[0;34m:\u001b[0m\u001b[0;34m\u001b[0m\u001b[0;34m\u001b[0m\u001b[0m\n\u001b[1;32m    215\u001b[0m     \u001b[0;34m\"\"\"Calls with flattened tensor inputs and returns the structured output.\"\"\"\u001b[0m\u001b[0;34m\u001b[0m\u001b[0;34m\u001b[0m\u001b[0m\n\u001b[0;32m--> 216\u001b[0;31m     \u001b[0mflat_outputs\u001b[0m \u001b[0;34m=\u001b[0m \u001b[0mself\u001b[0m\u001b[0;34m.\u001b[0m\u001b[0mcall_flat\u001b[0m\u001b[0;34m(\u001b[0m\u001b[0;34m*\u001b[0m\u001b[0margs\u001b[0m\u001b[0;34m)\u001b[0m\u001b[0;34m\u001b[0m\u001b[0;34m\u001b[0m\u001b[0m\n\u001b[0m\u001b[1;32m    217\u001b[0m     \u001b[0;32mreturn\u001b[0m \u001b[0mself\u001b[0m\u001b[0;34m.\u001b[0m\u001b[0mfunction_type\u001b[0m\u001b[0;34m.\u001b[0m\u001b[0mpack_output\u001b[0m\u001b[0;34m(\u001b[0m\u001b[0mflat_outputs\u001b[0m\u001b[0;34m)\u001b[0m\u001b[0;34m\u001b[0m\u001b[0;34m\u001b[0m\u001b[0m\n\u001b[1;32m    218\u001b[0m \u001b[0;34m\u001b[0m\u001b[0m\n",
            "\u001b[0;32m/usr/local/lib/python3.10/dist-packages/tensorflow/python/eager/polymorphic_function/atomic_function.py\u001b[0m in \u001b[0;36mcall_flat\u001b[0;34m(self, *args)\u001b[0m\n\u001b[1;32m    249\u001b[0m         \u001b[0;32mwith\u001b[0m \u001b[0mrecord\u001b[0m\u001b[0;34m.\u001b[0m\u001b[0mstop_recording\u001b[0m\u001b[0;34m(\u001b[0m\u001b[0;34m)\u001b[0m\u001b[0;34m:\u001b[0m\u001b[0;34m\u001b[0m\u001b[0;34m\u001b[0m\u001b[0m\n\u001b[1;32m    250\u001b[0m           \u001b[0;32mif\u001b[0m \u001b[0mself\u001b[0m\u001b[0;34m.\u001b[0m\u001b[0m_bound_context\u001b[0m\u001b[0;34m.\u001b[0m\u001b[0mexecuting_eagerly\u001b[0m\u001b[0;34m(\u001b[0m\u001b[0;34m)\u001b[0m\u001b[0;34m:\u001b[0m\u001b[0;34m\u001b[0m\u001b[0;34m\u001b[0m\u001b[0m\n\u001b[0;32m--> 251\u001b[0;31m             outputs = self._bound_context.call_function(\n\u001b[0m\u001b[1;32m    252\u001b[0m                 \u001b[0mself\u001b[0m\u001b[0;34m.\u001b[0m\u001b[0mname\u001b[0m\u001b[0;34m,\u001b[0m\u001b[0;34m\u001b[0m\u001b[0;34m\u001b[0m\u001b[0m\n\u001b[1;32m    253\u001b[0m                 \u001b[0mlist\u001b[0m\u001b[0;34m(\u001b[0m\u001b[0margs\u001b[0m\u001b[0;34m)\u001b[0m\u001b[0;34m,\u001b[0m\u001b[0;34m\u001b[0m\u001b[0;34m\u001b[0m\u001b[0m\n",
            "\u001b[0;32m/usr/local/lib/python3.10/dist-packages/tensorflow/python/eager/context.py\u001b[0m in \u001b[0;36mcall_function\u001b[0;34m(self, name, tensor_inputs, num_outputs)\u001b[0m\n\u001b[1;32m   1484\u001b[0m     \u001b[0mcancellation_context\u001b[0m \u001b[0;34m=\u001b[0m \u001b[0mcancellation\u001b[0m\u001b[0;34m.\u001b[0m\u001b[0mcontext\u001b[0m\u001b[0;34m(\u001b[0m\u001b[0;34m)\u001b[0m\u001b[0;34m\u001b[0m\u001b[0;34m\u001b[0m\u001b[0m\n\u001b[1;32m   1485\u001b[0m     \u001b[0;32mif\u001b[0m \u001b[0mcancellation_context\u001b[0m \u001b[0;32mis\u001b[0m \u001b[0;32mNone\u001b[0m\u001b[0;34m:\u001b[0m\u001b[0;34m\u001b[0m\u001b[0;34m\u001b[0m\u001b[0m\n\u001b[0;32m-> 1486\u001b[0;31m       outputs = execute.execute(\n\u001b[0m\u001b[1;32m   1487\u001b[0m           \u001b[0mname\u001b[0m\u001b[0;34m.\u001b[0m\u001b[0mdecode\u001b[0m\u001b[0;34m(\u001b[0m\u001b[0;34m\"utf-8\"\u001b[0m\u001b[0;34m)\u001b[0m\u001b[0;34m,\u001b[0m\u001b[0;34m\u001b[0m\u001b[0;34m\u001b[0m\u001b[0m\n\u001b[1;32m   1488\u001b[0m           \u001b[0mnum_outputs\u001b[0m\u001b[0;34m=\u001b[0m\u001b[0mnum_outputs\u001b[0m\u001b[0;34m,\u001b[0m\u001b[0;34m\u001b[0m\u001b[0;34m\u001b[0m\u001b[0m\n",
            "\u001b[0;32m/usr/local/lib/python3.10/dist-packages/tensorflow/python/eager/execute.py\u001b[0m in \u001b[0;36mquick_execute\u001b[0;34m(op_name, num_outputs, inputs, attrs, ctx, name)\u001b[0m\n\u001b[1;32m     51\u001b[0m   \u001b[0;32mtry\u001b[0m\u001b[0;34m:\u001b[0m\u001b[0;34m\u001b[0m\u001b[0;34m\u001b[0m\u001b[0m\n\u001b[1;32m     52\u001b[0m     \u001b[0mctx\u001b[0m\u001b[0;34m.\u001b[0m\u001b[0mensure_initialized\u001b[0m\u001b[0;34m(\u001b[0m\u001b[0;34m)\u001b[0m\u001b[0;34m\u001b[0m\u001b[0;34m\u001b[0m\u001b[0m\n\u001b[0;32m---> 53\u001b[0;31m     tensors = pywrap_tfe.TFE_Py_Execute(ctx._handle, device_name, op_name,\n\u001b[0m\u001b[1;32m     54\u001b[0m                                         inputs, attrs, num_outputs)\n\u001b[1;32m     55\u001b[0m   \u001b[0;32mexcept\u001b[0m \u001b[0mcore\u001b[0m\u001b[0;34m.\u001b[0m\u001b[0m_NotOkStatusException\u001b[0m \u001b[0;32mas\u001b[0m \u001b[0me\u001b[0m\u001b[0;34m:\u001b[0m\u001b[0;34m\u001b[0m\u001b[0;34m\u001b[0m\u001b[0m\n",
            "\u001b[0;31mKeyboardInterrupt\u001b[0m: "
          ]
        }
      ]
    },
    {
      "cell_type": "markdown",
      "source": [
        "### VGG"
      ],
      "metadata": {
        "id": "fsT8bdTw5bDH"
      },
      "id": "fsT8bdTw5bDH"
    },
    {
      "cell_type": "code",
      "source": [
        "model.layers"
      ],
      "metadata": {
        "id": "TSPCVKUBvGP7",
        "outputId": "78d32b01-ef9f-44d5-f0c8-8a178dd4c8dc",
        "colab": {
          "base_uri": "https://localhost:8080/"
        }
      },
      "id": "TSPCVKUBvGP7",
      "execution_count": 20,
      "outputs": [
        {
          "output_type": "execute_result",
          "data": {
            "text/plain": [
              "[<keras.src.engine.input_layer.InputLayer at 0x7e00eaba1a50>,\n",
              " <keras.src.layers.convolutional.conv2d.Conv2D at 0x7e00eaba1900>,\n",
              " <keras.src.layers.convolutional.conv2d.Conv2D at 0x7e00eaba2950>,\n",
              " <keras.src.layers.pooling.max_pooling2d.MaxPooling2D at 0x7e00eab89ba0>,\n",
              " <keras.src.layers.convolutional.conv2d.Conv2D at 0x7e0180131720>,\n",
              " <keras.src.layers.convolutional.conv2d.Conv2D at 0x7e00eab89b40>,\n",
              " <keras.src.layers.pooling.max_pooling2d.MaxPooling2D at 0x7e00ec81d990>,\n",
              " <keras.src.layers.convolutional.conv2d.Conv2D at 0x7e00ec81e200>,\n",
              " <keras.src.layers.convolutional.conv2d.Conv2D at 0x7e00ec81e920>,\n",
              " <keras.src.layers.convolutional.conv2d.Conv2D at 0x7e00ec81dbd0>,\n",
              " <keras.src.layers.convolutional.conv2d.Conv2D at 0x7e00ec81e1d0>,\n",
              " <keras.src.layers.pooling.max_pooling2d.MaxPooling2D at 0x7e00e8948610>,\n",
              " <keras.src.layers.convolutional.conv2d.Conv2D at 0x7e00ec81faf0>,\n",
              " <keras.src.layers.convolutional.conv2d.Conv2D at 0x7e00e8949930>,\n",
              " <keras.src.layers.convolutional.conv2d.Conv2D at 0x7e00e894a440>,\n",
              " <keras.src.layers.convolutional.conv2d.Conv2D at 0x7e00e894b160>,\n",
              " <keras.src.layers.pooling.max_pooling2d.MaxPooling2D at 0x7e00e894bc70>,\n",
              " <keras.src.layers.convolutional.conv2d.Conv2D at 0x7e00e894b280>,\n",
              " <keras.src.layers.convolutional.conv2d.Conv2D at 0x7e00e895c490>,\n",
              " <keras.src.layers.convolutional.conv2d.Conv2D at 0x7e00e895d570>,\n",
              " <keras.src.layers.convolutional.conv2d.Conv2D at 0x7e00e895e290>,\n",
              " <keras.src.layers.pooling.max_pooling2d.MaxPooling2D at 0x7e00e895f430>,\n",
              " <keras.src.layers.reshaping.flatten.Flatten at 0x7e00eaba21d0>,\n",
              " <keras.src.layers.core.dense.Dense at 0x7e00e8971030>,\n",
              " <keras.src.layers.core.dense.Dense at 0x7e00e8972260>,\n",
              " <keras.src.layers.core.dense.Dense at 0x7e00e895c760>]"
            ]
          },
          "metadata": {},
          "execution_count": 20
        }
      ]
    },
    {
      "cell_type": "code",
      "source": [
        "vgg.layers[-4:]"
      ],
      "metadata": {
        "id": "StjffStKvRic",
        "outputId": "e5bb5fab-2bd7-41b1-c229-df01165dc0f4",
        "colab": {
          "base_uri": "https://localhost:8080/"
        }
      },
      "id": "StjffStKvRic",
      "execution_count": 23,
      "outputs": [
        {
          "output_type": "execute_result",
          "data": {
            "text/plain": [
              "[<keras.src.layers.convolutional.conv2d.Conv2D at 0x7e00e895c490>,\n",
              " <keras.src.layers.convolutional.conv2d.Conv2D at 0x7e00e895d570>,\n",
              " <keras.src.layers.convolutional.conv2d.Conv2D at 0x7e00e895e290>,\n",
              " <keras.src.layers.pooling.max_pooling2d.MaxPooling2D at 0x7e00e895f430>]"
            ]
          },
          "metadata": {},
          "execution_count": 23
        }
      ]
    },
    {
      "cell_type": "code",
      "source": [
        "vgg = VGG19(include_top=False, weights='imagenet', input_shape=(150, 150, 3))\n",
        "\n",
        "# Freeze the layers\n",
        "for layer in vgg.layers[:-2]:\n",
        "    layer.trainable = False\n",
        "\n",
        "flatten = layers.Flatten()(vgg.output)\n",
        "\n",
        "dense = layers.Dense(1024, activation='relu')(flatten)\n",
        "dropout = Dropout(0.3)(dense)\n",
        "\n",
        "dense = layers.Dense(256, activation='relu')(dense)\n",
        "dropout = Dropout(0.3)(dense)\n",
        "\n",
        "output = layers.Dense(114, activation='softmax')(dense)\n",
        "\n",
        "model = models.Model(vgg.input, output)\n",
        "\n",
        "\n",
        "model.compile(optimizer='adam',\n",
        "              loss='categorical_crossentropy',\n",
        "              metrics=['accuracy', weighted_f1_score])\n",
        "\n",
        "history = model.fit(train_generator,\n",
        "          validation_data=val_generator,\n",
        "          epochs=5,\n",
        "          steps_per_epoch=len(train_generator),\n",
        "          validation_steps = len(val_generator),\n",
        "          callbacks=[clear_output_callback, plot_metrics_callback, top_n_accuracy_callback],\n",
        "          verbose = 'auto')\n"
      ],
      "metadata": {
        "colab": {
          "base_uri": "https://localhost:8080/",
          "height": 579
        },
        "id": "s2jyDBlSYqSV",
        "outputId": "06f93617-53a3-480f-eb59-5f75919effea"
      },
      "id": "s2jyDBlSYqSV",
      "execution_count": 24,
      "outputs": [
        {
          "output_type": "display_data",
          "data": {
            "text/plain": [
              "<Figure size 1000x500 with 2 Axes>"
            ],
            "image/png": "[encoded data removed]"
          },
          "metadata": {}
        },
        {
          "output_type": "stream",
          "name": "stdout",
          "text": [
            "Top-1 accuracy: 0.096, Top-3 accuracy: 0.101, Top-5 accuracy: 0.143, \n",
            "Time to calculate: 11.10 seconds\n",
            "\b\b\b\b\b\b\b\b\b\b\b\b\b\b\b\b\b\b\b\b\b\b\b\b\b\b\b\b\b\b\b\b\b\b\b\b\b\b\b\b\b\b\b\b\b\b\b\b\b\b\b\b\b\b\b\b\b\b\b\b\b\b\b\b\b\b\b\b\b\b\b\b\b\b\b\b\b\b\b\b\b\b\b\b\b\b\b\b\b\b\b\b\b\b\b\b\b\b\b\b\b\b\b\b\b\b\b\b\b\b\b\b\r379/379 [==============================] - 148s 390ms/step - loss: 3.9471 - accuracy: 0.1082 - weighted_f1_score: 0.0768 - val_loss: 4.2271 - val_accuracy: 0.0909 - val_weighted_f1_score: 0.0529\n"
          ]
        }
      ]
    },
    {
      "cell_type": "code",
      "source": [
        "from google.colab import drive\n",
        "drive.mount('/content/drive')"
      ],
      "metadata": {
        "id": "AddMkpIDnDtl",
        "outputId": "24bd5750-8a76-4ff9-89ed-c32b22ca91b8",
        "colab": {
          "base_uri": "https://localhost:8080/"
        }
      },
      "id": "AddMkpIDnDtl",
      "execution_count": null,
      "outputs": [
        {
          "output_type": "stream",
          "name": "stdout",
          "text": [
            "Mounted at /content/drive\n"
          ]
        }
      ]
    },
    {
      "cell_type": "code",
      "source": [
        "model.save_weights('/content/drive/MyDrive/Nova IMS/DL/Project/vgg19_weights_baseline_22_03.h5')"
      ],
      "metadata": {
        "id": "CHqMsOK0khtu"
      },
      "id": "CHqMsOK0khtu",
      "execution_count": null,
      "outputs": []
    },
    {
      "cell_type": "markdown",
      "source": [
        "#### Further modeling"
      ],
      "metadata": {
        "id": "lJFtbtjhEv7U"
      },
      "id": "lJFtbtjhEv7U"
    },
    {
      "cell_type": "code",
      "source": [
        "vgg = VGG16(include_top=False, weights='imagenet', input_shape=(224, 224, 3))\n",
        "\n",
        "# Freeze the layers\n",
        "for layer in vgg.layers:\n",
        "    layer.trainable = False\n",
        "\n",
        "# Flatten the output of the VGG16 network because it is a 2D array\n",
        "flatten = layers.Flatten()(vgg.output)\n",
        "\n",
        "# Add a fully connected layer with 1024 neurons\n",
        "dense = layers.Dense(1024, activation='relu')(flatten)\n",
        "dropout = Dropout(0.5)(dense)\n",
        "\n",
        "# Add a fully connected layer with 256 neurons\n",
        "dense = layers.Dense(256, activation='relu')(dense)\n",
        "dropout = Dropout(0.5)(dense)\n",
        "\n",
        "# We have 114 classes so we need a dense layer with 114 neurons\n",
        "output = layers.Dense(114, activation='softmax')(dense)\n",
        "\n",
        "# Create a model\n",
        "model = models.Model(vgg.input, output)\n",
        "\n",
        "# Compile the model\n",
        "model.compile(\n",
        "    optimizer='adam',\n",
        "    loss='categorical_crossentropy',\n",
        "    metrics=['accuracy'])"
      ],
      "metadata": {
        "colab": {
          "base_uri": "https://localhost:8080/"
        },
        "id": "iUoJjL3X40zT",
        "outputId": "cf93d614-ce03-489f-b48d-48ba06d85e4c"
      },
      "id": "iUoJjL3X40zT",
      "execution_count": null,
      "outputs": [
        {
          "output_type": "stream",
          "name": "stdout",
          "text": [
            "Downloading data from https://storage.googleapis.com/tensorflow/keras-applications/vgg16/vgg16_weights_tf_dim_ordering_tf_kernels_notop.h5\n",
            "58889256/58889256 [==============================] - 1s 0us/step\n"
          ]
        }
      ]
    },
    {
      "cell_type": "code",
      "source": [
        "# Train the model\n",
        "model.fit(\n",
        "    train_generator,\n",
        "    validation_data=val_generator,\n",
        "    epochs=10,\n",
        "    steps_per_epoch=len(train_generator),\n",
        "    validation_steps=len(val_generator))"
      ],
      "metadata": {
        "colab": {
          "base_uri": "https://localhost:8080/"
        },
        "id": "L8iv9BCh5D75",
        "outputId": "42960fa4-edf6-4f5c-a605-871826fab3ed"
      },
      "id": "L8iv9BCh5D75",
      "execution_count": null,
      "outputs": [
        {
          "output_type": "stream",
          "name": "stdout",
          "text": [
            "Epoch 1/10\n",
            "379/379 [==============================] - 214s 565ms/step - loss: 4.5626 - accuracy: 0.0496 - val_loss: 4.6065 - val_accuracy: 0.0439\n",
            "Epoch 2/10\n",
            "379/379 [==============================] - 209s 550ms/step - loss: 4.2871 - accuracy: 0.0688 - val_loss: 4.4079 - val_accuracy: 0.0566\n",
            "Epoch 3/10\n",
            "379/379 [==============================] - 208s 548ms/step - loss: 4.1713 - accuracy: 0.0774 - val_loss: 4.2941 - val_accuracy: 0.0797\n",
            "Epoch 4/10\n",
            "379/379 [==============================] - 212s 560ms/step - loss: 4.0789 - accuracy: 0.0922 - val_loss: 4.2698 - val_accuracy: 0.0813\n",
            "Epoch 5/10\n",
            "379/379 [==============================] - 212s 558ms/step - loss: 4.0069 - accuracy: 0.0995 - val_loss: 4.1700 - val_accuracy: 0.0949\n",
            "Epoch 6/10\n",
            "379/379 [==============================] - 203s 535ms/step - loss: 3.9411 - accuracy: 0.1079 - val_loss: 4.1259 - val_accuracy: 0.0973\n",
            "Epoch 7/10\n",
            "379/379 [==============================] - 205s 541ms/step - loss: 3.8945 - accuracy: 0.1151 - val_loss: 4.0923 - val_accuracy: 0.0941\n",
            "Epoch 8/10\n",
            "379/379 [==============================] - 207s 547ms/step - loss: 3.8367 - accuracy: 0.1257 - val_loss: 4.0839 - val_accuracy: 0.1069\n",
            "Epoch 9/10\n",
            "379/379 [==============================] - 203s 536ms/step - loss: 3.7966 - accuracy: 0.1261 - val_loss: 3.9886 - val_accuracy: 0.1148\n",
            "Epoch 10/10\n",
            "379/379 [==============================] - 205s 542ms/step - loss: 3.7581 - accuracy: 0.1360 - val_loss: 4.0593 - val_accuracy: 0.1061\n"
          ]
        },
        {
          "output_type": "execute_result",
          "data": {
            "text/plain": [
              "<keras.src.callbacks.History at 0x7db1dc30eb30>"
            ]
          },
          "metadata": {},
          "execution_count": 42
        }
      ]
    },
    {
      "cell_type": "code",
      "source": [
        "model.save_weights('/content/vgg16-1024-256.h5')"
      ],
      "metadata": {
        "id": "qHuIwkj-EziR"
      },
      "id": "qHuIwkj-EziR",
      "execution_count": null,
      "outputs": []
    }
  ],
  "metadata": {
    "kernelspec": {
      "display_name": "Python 3",
      "name": "python3"
    },
    "language_info": {
      "codemirror_mode": {
        "name": "ipython",
        "version": 3
      },
      "file_extension": ".py",
      "mimetype": "text/x-python",
      "name": "python",
      "nbconvert_exporter": "python",
      "pygments_lexer": "ipython3",
      "version": "3.11.4"
    },
    "colab": {
      "provenance": [],
      "gpuType": "T4"
    },
    "accelerator": "GPU"
  },
  "nbformat": 4,
  "nbformat_minor": 5
}